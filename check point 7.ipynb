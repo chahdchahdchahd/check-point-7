{
 "cells": [
  {
   "cell_type": "code",
   "execution_count": 75,
   "id": "7560ea2b",
   "metadata": {
    "scrolled": false
   },
   "outputs": [
    {
     "data": {
      "text/plain": [
       "'What is Python language?                                                \\nPython is a widely used high-level, general-purpose, interpreted, dynamic programming language.Its design philosophy emphasizes code readability, and its syntax allows programmers to express concepts in fewer lines of code than possible in \\nlanguages such as C++ or Java. \\nPython supports multiple programming paradigms, including object-oriented, imperative and functional programming or procedural styles. It features a dynamic type system and automatic memory management and has a large and comprehensive standard library.The best way we learn anything is by practice and exercise questions. We  have started this section for those (beginner to intermediate) who are familiar with Python.'"
      ]
     },
     "execution_count": 75,
     "metadata": {},
     "output_type": "execute_result"
    }
   ],
   "source": [
    "f = open(\"python.txt\",'r',encoding='utf-8')\n",
    "f.read()                                             \n",
    "#Question1"
   ]
  },
  {
   "cell_type": "code",
   "execution_count": 74,
   "id": "832e09b2",
   "metadata": {},
   "outputs": [
    {
     "name": "stdout",
     "output_type": "stream",
     "text": [
      "What is Python language?                                                \n",
      "\n"
     ]
    }
   ],
   "source": [
    " f = open('python.txt', 'r')\n",
    "line = f.readline()\n",
    "print (line)\n",
    "f.close()#Question 2"
   ]
  },
  {
   "cell_type": "code",
   "execution_count": 73,
   "id": "29766b62",
   "metadata": {},
   "outputs": [
    {
     "name": "stdout",
     "output_type": "stream",
     "text": [
      "['Python supports multiple programming paradigms, including object-oriented, imperative and functional programming or procedural styles. It features a dynamic type system and automatic memory management and has a large and comprehensive standard library.The best way we learn anything is by practice and exercise questions. We  have started this section for those (beginner to intermediate) who are familiar with Python.']\n"
     ]
    }
   ],
   "source": [
    "f = open('python.txt', 'r')\n",
    "lines = f.readlines()\n",
    "last_lines=lines[-1:]\n",
    "print(last_lines)#Question 3"
   ]
  },
  {
   "cell_type": "code",
   "execution_count": 70,
   "id": "7bec70c4",
   "metadata": {},
   "outputs": [
    {
     "name": "stdout",
     "output_type": "stream",
     "text": [
      "entrer votre file: chahd chahd\n",
      "['c']\n",
      "['h']\n",
      "['a']\n",
      "['h']\n",
      "['d']\n",
      "[]\n",
      "['c']\n",
      "['h']\n",
      "['a']\n",
      "['h']\n",
      "['d']\n",
      "10\n"
     ]
    }
   ],
   "source": [
    "f=input(\"entrer votre file: \")\n",
    "numw=0\n",
    "for line in f:\n",
    "    words=line.split()\n",
    "    print(words)\n",
    "    numw +=len (words)\n",
    "print(numw)#Question 4"
   ]
  },
  {
   "cell_type": "code",
   "execution_count": 72,
   "id": "4d4a965c",
   "metadata": {},
   "outputs": [
    {
     "name": "stdout",
     "output_type": "stream",
     "text": [
      "['Python supports multiple programming paradigms, including object-oriented, imperative and functional programming or procedural styles. It features a dynamic type system and automatic memory management and has a large and comprehensive standard library.The best way we learn anything is by practice and exercise questions. We  have started this section for those (beginner to intermediate) who are familiar with Python.']\n"
     ]
    }
   ],
   "source": [
    "f=open(\"python.txt\")\n",
    "f=open('python.txt','r',encoding='utf-8')\n",
    "last_lines=lines [-1:]\n",
    "print(last_lines)#Question 5"
   ]
  }
 ],
 "metadata": {
  "kernelspec": {
   "display_name": "Python 3",
   "language": "python",
   "name": "python3"
  },
  "language_info": {
   "codemirror_mode": {
    "name": "ipython",
    "version": 3
   },
   "file_extension": ".py",
   "mimetype": "text/x-python",
   "name": "python",
   "nbconvert_exporter": "python",
   "pygments_lexer": "ipython3",
   "version": "3.8.8"
  }
 },
 "nbformat": 4,
 "nbformat_minor": 5
}
